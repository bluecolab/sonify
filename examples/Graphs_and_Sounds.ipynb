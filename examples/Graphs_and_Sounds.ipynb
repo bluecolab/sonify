{
 "cells": [
  {
   "cell_type": "markdown",
   "metadata": {
    "slideshow": {
     "slide_type": "skip"
    }
   },
   "source": [
    "# Setup\n",
    "\n",
    "A bunch of boring setup code that gets the data we're using into a format that's nice and usable! It's not very pretty or useful to show during the talk, so it'll be hidden from \"slide mode.\" Feel free to go exploring through it though!"
   ]
  },
  {
   "cell_type": "code",
   "execution_count": 8,
   "metadata": {
    "slideshow": {
     "slide_type": "skip"
    }
   },
   "outputs": [],
   "source": [
    "import json\n",
    "import random\n",
    "\n",
    "import numpy as np\n",
    "import scipy.signal\n",
    "import astropy.io.fits\n",
    "import matplotlib.pyplot as plt\n",
    "from astropy.stats import LombScargle\n",
    "\n",
    "import sonify\n",
    "\n",
    "%matplotlib inline"
   ]
  },
  {
   "cell_type": "code",
   "execution_count": 9,
   "metadata": {
    "slideshow": {
     "slide_type": "skip"
    }
   },
   "outputs": [],
   "source": [
    "def plot_cleveland_stats(stats):\n",
    "    fig = plt.figure(figsize=(12, 5))\n",
    "    ax = fig.add_subplot(111)\n",
    "    ax.set_ylim(ymax=1)\n",
    "    ax.set_xlabel('Season year')\n",
    "    ax.set_ylabel('Win Percentage')\n",
    "    ax.set_title(\"Cleveland Cavaliers' Regular Season Win Percentage\")\n",
    "    \n",
    "    ax.annotate(\"LeBron's Rookie Year\", xy=('03/04', 0.427), xytext=(.3, .6),\n",
    "    arrowprops=dict(facecolor='black', shrink=0.2, width=1),\n",
    "    )\n",
    "    ax.annotate(\"LeBron Leaves for Miami\", xy=('10/11', 0.232), xytext=('10/11', 0.05),\n",
    "        arrowprops=dict(facecolor='black', shrink=0.2, width=1),\n",
    "    )\n",
    "    ax.annotate(\"LeBron Returns to Cleveland\", xy=('14/15', 0.646), xytext=('13/14', .9),\n",
    "        arrowprops=dict(facecolor='black', shrink=0.2, width=1),\n",
    "    )\n",
    "\n",
    "    ax.plot(*zip(*stats), 'ro')"
   ]
  },
  {
   "cell_type": "code",
   "execution_count": 10,
   "metadata": {
    "slideshow": {
     "slide_type": "skip"
    }
   },
   "outputs": [],
   "source": [
    "def normalize_climate_data(climate_json):\n",
    "    years = [int(year) for year in climate_json['data'].keys()]\n",
    "    temp_anomolies = [float(temp_anomaly) for temp_anomaly in climate_json['data'].values()]\n",
    "\n",
    "    normalized_years = sonify.scale_list_to_range(years, new_min=0, new_max=30)\n",
    "    normalized_temp_anomolies = sonify.scale_list_to_range(temp_anomolies, new_min=30, new_max=127)\n",
    "\n",
    "\n",
    "    normed_climate_data = list(zip(normalized_years, normalized_temp_anomolies))\n",
    "    \n",
    "    return normed_climate_data"
   ]
  },
  {
   "cell_type": "code",
   "execution_count": 11,
   "metadata": {
    "slideshow": {
     "slide_type": "skip"
    }
   },
   "outputs": [],
   "source": [
    "def get_kepler_data():\n",
    "    \"\"\"\n",
    "    Example from @GeertHub's talk on \"How to find a planet\"\n",
    "    http://nbviewer.jupyter.org/github/barentsen/how-to-find-a-planet/blob/master/how-to-find-a-planet.ipynb\n",
    "    \"\"\"\n",
    "    # Read in Kepler data for star number 011904151\n",
    "    data = astropy.io.fits.open('sample_data/kplr011904151-2010009091648_lpd-targ.fits')[1].data\n",
    "    time = data[\"TIME\"][data['QUALITY'] == 0]\n",
    "    images = data[\"FLUX\"][data['QUALITY'] == 0]\n",
    "    \n",
    "    lightcurve = np.sum(images, axis=(1, 2))\n",
    "    trend = scipy.signal.savgol_filter(lightcurve, 101, polyorder=3) \n",
    "    percent_change = 100 * ((lightcurve / trend) - 1)\n",
    "\n",
    "    frequency, power = LombScargle(time, percent_change, nterms=2).autopower(minimum_frequency=1/1.5, maximum_frequency=1/0.6, samples_per_peak=10)\n",
    "    period = 1 / frequency[np.argmax(power)]\n",
    "\n",
    "    return time, period, percent_change, images"
   ]
  },
  {
   "cell_type": "code",
   "execution_count": 12,
   "metadata": {
    "slideshow": {
     "slide_type": "skip"
    }
   },
   "outputs": [],
   "source": [
    "def show_plots_in_chunks():\n",
    "    n_plots = 10\n",
    "    plt.figure(figsize=(10, 30))\n",
    "    for i in range(n_plots):\n",
    "        mask = (time >= time[0] + i*period) & (time < time[0] + (i+1)*period)\n",
    "        plt.subplot(n_plots, 1, i+1)\n",
    "        plt.scatter(time[mask], percent_change[mask], c='C{}'.format(i))"
   ]
  },
  {
   "cell_type": "code",
   "execution_count": 13,
   "metadata": {
    "slideshow": {
     "slide_type": "skip"
    }
   },
   "outputs": [],
   "source": [
    "def process_kepler_data(time, period, percent_change, low_note=20, high_note=100):    \n",
    "    \n",
    "    x_points = []\n",
    "    y_points = []\n",
    "    for i in range(10):\n",
    "        mask = (time >= time[0] + i*period) & (time < time[0] + (i+1)*period)\n",
    "        x_points += [x for x in time[mask] - time[0] - i*period]\n",
    "        y_points += [y for y in percent_change[mask]]\n",
    "\n",
    "    normalized_x = sonify.scale_list_to_range(x_points, new_min=0, new_max=30)\n",
    "    normalized_y = sonify.scale_list_to_range(y_points, new_min=low_note, new_max=high_note)\n",
    "        \n",
    "    normed_data = list(zip(normalized_x, normalized_y))\n",
    "    \n",
    "    return normed_data"
   ]
  },
  {
   "cell_type": "code",
   "execution_count": 14,
   "metadata": {
    "slideshow": {
     "slide_type": "skip"
    }
   },
   "outputs": [],
   "source": [
    "def process_kepler_data_multi_track(time, period, percent_change):\n",
    "    # Add period as a seperate color so we can see all the data together\n",
    "    \n",
    "    points = []\n",
    "    plt.figure(figsize=(10, 5))\n",
    "    \n",
    "    for i in range(5):\n",
    "        mask = (time >= time[0] + i*period) & (time < time[0] + (i+1)*period)\n",
    "        new_x = [x for x in time[mask] - time[0] - i*period]\n",
    "        scaled_x = sonify.scale_list_to_range(new_x, new_min=0, new_max=30)\n",
    "        \n",
    "        new_y = [y for y in percent_change[mask]]\n",
    "        scaled_y = sonify.scale_list_to_range(new_y, new_min=0, new_max=30)\n",
    "        \n",
    "        quantized_x = sonify.quantize_x_value(scaled_x)\n",
    "                \n",
    "        points.append(list(zip(quantized_x, scaled_y)))\n",
    "        \n",
    "        # Create the figure!\n",
    "        mask = (time >= time[0] + i*period) & (time < time[0] + (i+1)*period)\n",
    "        plt.scatter(time[mask] - time[0] - i*period, percent_change[mask])\n",
    "            \n",
    "    return points"
   ]
  },
  {
   "cell_type": "markdown",
   "metadata": {
    "slideshow": {
     "slide_type": "slide"
    }
   },
   "source": [
    "# Start with some simple data"
   ]
  },
  {
   "cell_type": "code",
   "execution_count": 15,
   "metadata": {
    "slideshow": {
     "slide_type": "fragment"
    }
   },
   "outputs": [
    {
     "data": {
      "text/plain": [
       "<matplotlib.collections.PathCollection at 0x1133e4080>"
      ]
     },
     "execution_count": 15,
     "metadata": {},
     "output_type": "execute_result"
    },
    {
     "data": {
      "image/png": "[encoded data removed]",
      "text/plain": [
       "<matplotlib.figure.Figure at 0x113393f28>"
      ]
     },
     "metadata": {},
     "output_type": "display_data"
    }
   ],
   "source": [
    "# Create some data we'd like to play from\n",
    "simple_data = [(1, 50), (2, 50), (3, 57), (4, 57), (5, 59), (6, 59), (7, 57)]\n",
    "\n",
    "# See what it looks like\n",
    "plt.scatter(*zip(*simple_data))"
   ]
  },
  {
   "cell_type": "code",
   "execution_count": 16,
   "metadata": {
    "slideshow": {
     "slide_type": "fragment"
    }
   },
   "outputs": [
    {
     "name": "stdout",
     "output_type": "stream",
     "text": [
      "Done playing!\n"
     ]
    }
   ],
   "source": [
    "sonify.play_midi_from_data(simple_data)"
   ]
  },
  {
   "cell_type": "markdown",
   "metadata": {
    "slideshow": {
     "slide_type": "slide"
    }
   },
   "source": [
    "# How are we converting numbers to notes?"
   ]
  },
  {
   "cell_type": "markdown",
   "metadata": {
    "slideshow": {
     "slide_type": "fragment"
    }
   },
   "source": [
    "## MIDI \t&#9835;\n",
    "###  Musical Instrument Digital Interface"
   ]
  },
  {
   "cell_type": "markdown",
   "metadata": {
    "slideshow": {
     "slide_type": "subslide"
    }
   },
   "source": [
    "![midi notes and values](images/midi_notes_values.png)\n",
    "\n",
    "[source](http://computermusicresource.com/midikeys.html)"
   ]
  },
  {
   "cell_type": "markdown",
   "metadata": {
    "slideshow": {
     "slide_type": "slide"
    }
   },
   "source": [
    "# Python has SO MANY great resources for this\n",
    "\n",
    "[Python in music wiki](https://wiki.python.org/moin/PythonInMusic) just scratches the surface."
   ]
  },
  {
   "cell_type": "markdown",
   "metadata": {
    "slideshow": {
     "slide_type": "fragment"
    }
   },
   "source": [
    "For this talk, I'll be using [sonify](https://github.com/erinspace/sonify) -- some code that uses python to convert data to sound\n",
    "\n",
    "The main components are:\n",
    "\n",
    "- Midi creation using [midiutil](http://midiutil.readthedocs.io/en/stable/)\n",
    "- Playing back that midi file using [pygame](https://www.pygame.org/docs/ref/mixer.html)\n"
   ]
  },
  {
   "cell_type": "markdown",
   "metadata": {
    "slideshow": {
     "slide_type": "slide"
    }
   },
   "source": [
    "# Basketball Stats \t&#127936;\n",
    "\n",
    "Here's some stats for the Cleveland Cavalier's regular season win percentage"
   ]
  },
  {
   "cell_type": "code",
   "execution_count": 17,
   "metadata": {
    "slideshow": {
     "slide_type": "subslide"
    }
   },
   "outputs": [],
   "source": [
    "cleveland_seasons = [\n",
    "    ('00/01', 0.366),\n",
    "    ('01/02', 0.354),\n",
    "    ('02/03', 0.207),\n",
    "    ('03/04', 0.427), # LeBron's rookie year\n",
    "    ('04/05', 0.512),\n",
    "    ('05/06', 0.610),\n",
    "    ('06/07', 0.610),\n",
    "    ('07/08', 0.549),\n",
    "    ('08/09', 0.805),\n",
    "    ('09/10', 0.744),\n",
    "    ('10/11', 0.232), # LeBron leaves for Miami\n",
    "    ('11/12', 0.318),\n",
    "    ('12/13', 0.293),\n",
    "    ('13/14', 0.402),\n",
    "    ('14/15', 0.646), # LeBron returns to Cleveland\n",
    "    ('15/16', 0.695),\n",
    "    ('16/17', 0.622),\n",
    "    ('17/18', 0.610)\n",
    "]"
   ]
  },
  {
   "cell_type": "code",
   "execution_count": 18,
   "metadata": {
    "slideshow": {
     "slide_type": "subslide"
    }
   },
   "outputs": [
    {
     "data": {
      "image/png": "[encoded data removed]",
      "text/plain": [
       "<matplotlib.figure.Figure at 0x1133937f0>"
      ]
     },
     "metadata": {},
     "output_type": "display_data"
    }
   ],
   "source": [
    "plot_cleveland_stats(cleveland_seasons)"
   ]
  },
  {
   "cell_type": "code",
   "execution_count": 19,
   "metadata": {
    "slideshow": {
     "slide_type": "slide"
    }
   },
   "outputs": [],
   "source": [
    "# Do a little processing to play back the data\n",
    "season, win_percentage = zip(*cleveland_seasons)\n",
    "\n",
    "# Just use the last year in the season\n",
    "simple_year = [int(year.split('/')[-1]) for year in season]\n",
    "\n",
    "# Scale the Y value to fit in a good MIDI note range\n",
    "normalized_win_percentage = sonify.scale_list_to_range(win_percentage, new_min=30, new_max=127)\n",
    "\n",
    "# Put it all back together!\n",
    "processed_cleveland_data = list(zip(simple_year, normalized_win_percentage))"
   ]
  },
  {
   "cell_type": "code",
   "execution_count": 20,
   "metadata": {
    "slideshow": {
     "slide_type": "subslide"
    }
   },
   "outputs": [
    {
     "data": {
      "text/plain": [
       "<matplotlib.collections.PathCollection at 0x116ce5a90>"
      ]
     },
     "execution_count": 20,
     "metadata": {},
     "output_type": "execute_result"
    },
    {
     "data": {
      "image/png": "[encoded data removed]",
      "text/plain": [
       "<matplotlib.figure.Figure at 0x116a541d0>"
      ]
     },
     "metadata": {},
     "output_type": "display_data"
    }
   ],
   "source": [
    "plt.scatter(*zip(*processed_cleveland_data))"
   ]
  },
  {
   "cell_type": "code",
   "execution_count": 21,
   "metadata": {
    "slideshow": {
     "slide_type": "fragment"
    }
   },
   "outputs": [
    {
     "name": "stdout",
     "output_type": "stream",
     "text": [
      "Done playing!\n"
     ]
    }
   ],
   "source": [
    "sonify.play_midi_from_data(processed_cleveland_data)"
   ]
  },
  {
   "cell_type": "code",
   "execution_count": 22,
   "metadata": {
    "slideshow": {
     "slide_type": "subslide"
    }
   },
   "outputs": [
    {
     "data": {
      "text/plain": [
       "<matplotlib.collections.PathCollection at 0x116e41080>"
      ]
     },
     "execution_count": 22,
     "metadata": {},
     "output_type": "execute_result"
    },
    {
     "data": {
      "image/png": "[encoded data removed]",
      "text/plain": [
       "<matplotlib.figure.Figure at 0x116a490b8>"
      ]
     },
     "metadata": {},
     "output_type": "display_data"
    }
   ],
   "source": [
    "plt.scatter(*zip(*processed_cleveland_data))"
   ]
  },
  {
   "cell_type": "code",
   "execution_count": 23,
   "metadata": {
    "slideshow": {
     "slide_type": "fragment"
    }
   },
   "outputs": [
    {
     "name": "stdout",
     "output_type": "stream",
     "text": [
      "Done playing!\n"
     ]
    }
   ],
   "source": [
    "sonify.play_midi_from_data(\n",
    "    ['pizzicato strings'] + processed_cleveland_data, key='g_major'\n",
    ")"
   ]
  },
  {
   "cell_type": "markdown",
   "metadata": {
    "slideshow": {
     "slide_type": "slide"
    }
   },
   "source": [
    "![title](images/climate_data.png)"
   ]
  },
  {
   "cell_type": "markdown",
   "metadata": {
    "slideshow": {
     "slide_type": "subslide"
    }
   },
   "source": [
    "## \"yearly average temperature anomalies\"\n",
    "\n",
    "[source](https://www.climate.gov/maps-data/dataset/global-temperature-anomalies-graphing-tool)\n",
    "\n",
    ">Comparing the average temperature of land and ocean combined for a year period to the average temperature for the same period over the 20th century shows if conditions are warmer or cooler than the past."
   ]
  },
  {
   "cell_type": "code",
   "execution_count": 24,
   "metadata": {
    "slideshow": {
     "slide_type": "slide"
    }
   },
   "outputs": [],
   "source": [
    "# Climate data from https://www.ncdc.noaa.gov/cag/\n",
    "with open('sample_data/global_temp_anomolies_1880-2018.json') as data_file:    \n",
    "    climate_json = json.load(data_file)"
   ]
  },
  {
   "cell_type": "code",
   "execution_count": 25,
   "metadata": {
    "slideshow": {
     "slide_type": "fragment"
    }
   },
   "outputs": [
    {
     "data": {
      "text/plain": [
       "<matplotlib.collections.PathCollection at 0x11748b4e0>"
      ]
     },
     "execution_count": 25,
     "metadata": {},
     "output_type": "execute_result"
    },
    {
     "data": {
      "image/png": "[encoded data removed]",
      "text/plain": [
       "<matplotlib.figure.Figure at 0x116e77e48>"
      ]
     },
     "metadata": {},
     "output_type": "display_data"
    }
   ],
   "source": [
    "normalized_climate_data = normalize_climate_data(climate_json)\n",
    "plt.scatter(*zip(*normalized_climate_data))"
   ]
  },
  {
   "cell_type": "code",
   "execution_count": 26,
   "metadata": {
    "slideshow": {
     "slide_type": "fragment"
    }
   },
   "outputs": [
    {
     "name": "stdout",
     "output_type": "stream",
     "text": [
      "Done playing!\n"
     ]
    }
   ],
   "source": [
    "sonify.play_midi_from_data(['whistle'] + normalized_climate_data)"
   ]
  },
  {
   "cell_type": "markdown",
   "metadata": {
    "slideshow": {
     "slide_type": "slide"
    }
   },
   "source": [
    "# Exoplanet Data!  \t&#128301;\n",
    "\n",
    "Let's look at some data from the Kepler Space Telescope.\n",
    "\n",
    "This will all be a bit of a whirlwind, but it's the data we're after so hang on tight!\n",
    "\n",
    "We'll be using data and code from Example from Geert Barentsen's talk titled [\"How to find a planet](http://nbviewer.jupyter.org/github/barentsen/how-to-find-a-planet/blob/master/how-to-find-a-planet.ipynb).\"\n",
    "\n",
    "The above linked notebook goes into WAY more detail, so if you're interested definitely check it out!"
   ]
  },
  {
   "cell_type": "markdown",
   "metadata": {
    "slideshow": {
     "slide_type": "slide"
    }
   },
   "source": [
    "# What Kepler is Looking For\n",
    "![exoplanet transit](images/transit.gif)"
   ]
  },
  {
   "cell_type": "markdown",
   "metadata": {
    "slideshow": {
     "slide_type": "slide"
    }
   },
   "source": [
    "# How Kepler gathers data\n",
    "\n",
    ">Kepler gives us tiny images of stars at many different timestamps.\n",
    "\n",
    "This image data is housed inside a file called a FITS file.\n",
    "\n",
    "To analyze the data, astronomers...\n",
    "- measure the brightness of each of those images\n",
    "- record the brightness on a graph\n",
    "- look for a dip in the brightness of that star\n",
    "- repeat the brightness observation over many cycles to get a pattern"
   ]
  },
  {
   "cell_type": "markdown",
   "metadata": {
    "slideshow": {
     "slide_type": "slide"
    }
   },
   "source": [
    "# Let's look at one of those star images"
   ]
  },
  {
   "cell_type": "code",
   "execution_count": 28,
   "metadata": {
    "slideshow": {
     "slide_type": "fragment"
    }
   },
   "outputs": [
    {
     "data": {
      "text/plain": [
       "<matplotlib.image.AxesImage at 0x117dff860>"
      ]
     },
     "execution_count": 28,
     "metadata": {},
     "output_type": "execute_result"
    },
    {
     "data": {
      "image/png": "[encoded data removed]",
      "text/plain": [
       "<matplotlib.figure.Figure at 0x1174d7390>"
      ]
     },
     "metadata": {},
     "output_type": "display_data"
    }
   ],
   "source": [
    "time, period, percent_change, images = get_kepler_data()\n",
    "\n",
    "plt.imshow(images[0], cmap='gray')"
   ]
  },
  {
   "cell_type": "code",
   "execution_count": 29,
   "metadata": {
    "slideshow": {
     "slide_type": "fragment"
    }
   },
   "outputs": [
    {
     "data": {
      "text/plain": [
       "(926, 9, 7)"
      ]
     },
     "execution_count": 29,
     "metadata": {},
     "output_type": "execute_result"
    }
   ],
   "source": [
    "# Overall, this FITS file has 926 9x7-pixel images!\n",
    "images.shape"
   ]
  },
  {
   "cell_type": "markdown",
   "metadata": {
    "slideshow": {
     "slide_type": "slide"
    }
   },
   "source": [
    "# Find the pattern in all that data\n",
    "\n",
    "Though a bit of signal processing, you can tell that something seems to be happening in the brightness of the signal every 0.8 days!\n",
    "\n",
    "Let's plot the data in 0.8-day chunks."
   ]
  },
  {
   "cell_type": "code",
   "execution_count": 30,
   "metadata": {
    "slideshow": {
     "slide_type": "subslide"
    }
   },
   "outputs": [
    {
     "data": {
      "image/png": "[encoded data removed]",
      "text/plain": [
       "<matplotlib.figure.Figure at 0x117e7f198>"
      ]
     },
     "metadata": {},
     "output_type": "display_data"
    }
   ],
   "source": [
    "show_plots_in_chunks()"
   ]
  },
  {
   "cell_type": "markdown",
   "metadata": {
    "slideshow": {
     "slide_type": "slide"
    }
   },
   "source": [
    "# Process the Signal to use with Sonify!\n",
    "\n",
    "To process this signal, we will:\n",
    "- Add each of the points on these 10 periods to the same graph\n",
    "- Scale the points to a range that makes sense to play back with MIDI data"
   ]
  },
  {
   "cell_type": "code",
   "execution_count": 31,
   "metadata": {
    "slideshow": {
     "slide_type": "subslide"
    }
   },
   "outputs": [
    {
     "data": {
      "text/plain": [
       "<matplotlib.collections.PathCollection at 0x1187b2160>"
      ]
     },
     "execution_count": 31,
     "metadata": {},
     "output_type": "execute_result"
    },
    {
     "data": {
      "image/png": "[encoded data removed]",
      "text/plain": [
       "<matplotlib.figure.Figure at 0x118766e80>"
      ]
     },
     "metadata": {},
     "output_type": "display_data"
    }
   ],
   "source": [
    "normed_data = process_kepler_data(time, period, percent_change)\n",
    "\n",
    "plt.scatter(*zip(*normed_data))"
   ]
  },
  {
   "cell_type": "code",
   "execution_count": 32,
   "metadata": {
    "slideshow": {
     "slide_type": "fragment"
    }
   },
   "outputs": [
    {
     "name": "stdout",
     "output_type": "stream",
     "text": [
      "Done playing!\n"
     ]
    }
   ],
   "source": [
    "sonify.play_midi_from_data(normed_data)"
   ]
  },
  {
   "cell_type": "markdown",
   "metadata": {
    "slideshow": {
     "slide_type": "slide"
    }
   },
   "source": [
    "# Let's try playing each seperate lightcurve as a new track!\n",
    "## And let's add a rhythm while we're at it, why not"
   ]
  },
  {
   "cell_type": "markdown",
   "metadata": {
    "slideshow": {
     "slide_type": "subslide"
    }
   },
   "source": [
    "## We can make a MIDI file that:\n",
    "- pairs down the number of observations to 5 for less clutter\n",
    "- restricts the y values to be all in one key\n",
    "- treats each period of observations as a new insturment\n",
    "- quantizes the x values, so that the result is more rhythmic!\n",
    "- incorperates a beat track to give it a groove"
   ]
  },
  {
   "cell_type": "code",
   "execution_count": 33,
   "metadata": {
    "slideshow": {
     "slide_type": "subslide"
    }
   },
   "outputs": [
    {
     "data": {
      "image/png": "[encoded data removed]",
      "text/plain": [
       "<matplotlib.figure.Figure at 0x118734128>"
      ]
     },
     "metadata": {},
     "output_type": "display_data"
    }
   ],
   "source": [
    "multitrack_data = process_kepler_data_multi_track(time, period, percent_change)"
   ]
  },
  {
   "cell_type": "code",
   "execution_count": 34,
   "metadata": {
    "slideshow": {
     "slide_type": "subslide"
    }
   },
   "outputs": [],
   "source": [
    "# Let's add some instruments to each track!\n",
    "instruments_to_add = [\n",
    "    'steel drums', 'rock organ', 'pizzicato strings', 'oboe', 'ocarina'\n",
    "]\n",
    "\n",
    "multitrack_data_with_instruments = []\n",
    "for index, track in enumerate(multitrack_data):\n",
    "    multitrack_data_with_instruments.append([instruments_to_add[index]] + track)"
   ]
  },
  {
   "cell_type": "code",
   "execution_count": 35,
   "metadata": {
    "slideshow": {
     "slide_type": "fragment"
    }
   },
   "outputs": [],
   "source": [
    "# While we're at it, let's add a drum track with a solid beat\n",
    "max_number_of_beats = multitrack_data_with_instruments[0][-1][0]\n",
    "\n",
    "bass_drum = []\n",
    "for beat in range(0, int(max_number_of_beats + 1)):\n",
    "   bass_drum.append((beat, 1)) \n",
    "\n",
    "beat_track = ['bass drum 1'] + bass_drum\n",
    "multitrack_data_with_instruments.append(beat_track)"
   ]
  },
  {
   "cell_type": "markdown",
   "metadata": {
    "slideshow": {
     "slide_type": "subslide"
    }
   },
   "source": [
    "\n",
    "\n",
    "<img src=\"images/kepler_multitrack.png\" alt=\"multi track kepler data\" style=\"width: 500px;\"/>"
   ]
  },
  {
   "cell_type": "code",
   "execution_count": 36,
   "metadata": {
    "slideshow": {
     "slide_type": "fragment"
    }
   },
   "outputs": [
    {
     "name": "stdout",
     "output_type": "stream",
     "text": [
      "Done playing!\n"
     ]
    }
   ],
   "source": [
    "sonify.play_midi_from_data(multitrack_data_with_instruments, track_type='multiple', key='c_major')"
   ]
  },
  {
   "cell_type": "markdown",
   "metadata": {
    "slideshow": {
     "slide_type": "slide"
    }
   },
   "source": [
    "# Where to go from here?"
   ]
  },
  {
   "cell_type": "markdown",
   "metadata": {
    "slideshow": {
     "slide_type": "fragment"
    }
   },
   "source": [
    "Python has so many great music making and data-interpreting resources!"
   ]
  },
  {
   "cell_type": "markdown",
   "metadata": {
    "slideshow": {
     "slide_type": "subslide"
    }
   },
   "source": [
    "# osf.io/vgaxh\n",
    "\n",
    "...for resources, contact info, these slides, and the code used to generate everything!"
   ]
  },
  {
   "cell_type": "markdown",
   "metadata": {
    "slideshow": {
     "slide_type": "slide"
    }
   },
   "source": [
    "# Data flows around\n",
    "# Almost everything we do\n",
    "# Sound sings its story"
   ]
  },
  {
   "cell_type": "markdown",
   "metadata": {
    "slideshow": {
     "slide_type": "slide"
    }
   },
   "source": [
    "# Thank you!\n",
    "\n",
    "<br>\n",
    "<br>\n",
    "<br>\n",
    "<sup><sub>email: erin.braswell@gmail.com</sub></sup><br>\n",
    "<sup><sub>twitter: @erinspaced</sub></sup><br>\n",
    "<sup><sub>github: github.com/erinspace</sub></sup><br>\n",
    "<sup><sub>these slides & more: osf.io/vgaxh</sub></sup>\n"
   ]
  }
 ],
 "metadata": {
  "celltoolbar": "Slideshow",
  "kernelspec": {
   "display_name": "Python 3",
   "language": "python",
   "name": "python3"
  },
  "language_info": {
   "codemirror_mode": {
    "name": "ipython",
    "version": 3
   },
   "file_extension": ".py",
   "mimetype": "text/x-python",
   "name": "python",
   "nbconvert_exporter": "python",
   "pygments_lexer": "ipython3",
   "version": "3.8.5"
  }
 },
 "nbformat": 4,
 "nbformat_minor": 2
}
