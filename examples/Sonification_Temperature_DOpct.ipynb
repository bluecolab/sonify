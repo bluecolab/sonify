{
 "cells": [
  {
   "cell_type": "code",
   "execution_count": 1,
   "metadata": {},
   "outputs": [
    {
     "name": "stdout",
     "output_type": "stream",
     "text": [
      "pygame 2.0.1 (SDL 2.0.14, Python 3.8.5)\n",
      "Hello from the pygame community. https://www.pygame.org/contribute.html\n"
     ]
    }
   ],
   "source": [
    "import pandas as pd\n",
    "import sonify\n",
    "import numpy as np"
   ]
  },
  {
   "cell_type": "code",
   "execution_count": 5,
   "metadata": {},
   "outputs": [],
   "source": [
    "# calculates average for each day in a span of 7 days\n",
    "def average_data_week(data):\n",
    "    day_averages = np.array([])\n",
    "    for a in range(0,96*7,96):\n",
    "        week = data[a:a+96]\n",
    "        avg = week.mean()\n",
    "        day_averages = np.append(day_averages, avg)\n",
    "    return day_averages"
   ]
  },
  {
   "cell_type": "code",
   "execution_count": 6,
   "metadata": {},
   "outputs": [],
   "source": [
    "#calculates average for each month in a span of last year\n",
    "#96 data points in a day, 96*365 in a year, 96*30 in a month \n",
    "#(using 30 days per month for easier calculation)\n",
    "def average_data_year(data):\n",
    "    month_averages = np.array([])\n",
    "    for a in range(0,96*30*12,96*30):\n",
    "        month = data[a:a+96*30]\n",
    "        avg = month.mean()\n",
    "        month_averages = np.append(month_averages, avg)\n",
    "    return month_averages"
   ]
  },
  {
   "cell_type": "code",
   "execution_count": 7,
   "metadata": {},
   "outputs": [],
   "source": [
    "#reading the data\n",
    "water_data = pd.read_csv('adaSensorData.csv')"
   ]
  },
  {
   "cell_type": "code",
   "execution_count": 17,
   "metadata": {},
   "outputs": [],
   "source": [
    "#playing with temp and dopct data\n",
    "temp = water_data['Temp']\n",
    "dopct = water_data['DOpct']\n",
    "temp_weekly_avg = average_data_week(temp)\n",
    "temp_monthly_avg = average_data_year(temp)\n",
    "#multiplying each value in temperature by 10 to make the sound nicer\n",
    "temp_weekly_avg = [temp * 10 for temp in temp_weekly_avg]\n",
    "temp_monthly_avg = [temp * 5 for temp in temp_monthly_avg]\n",
    "dopct_weekly_avg = average_data_week(dopct)\n",
    "index = [0,1,2,3,4,5,6]\n",
    "index_year = [0,1,2,3,4,5,6,7,8,9,10,12]\n",
    "temp_data_week = list(zip(index, temp_weekly_avg))\n",
    "temp_data_year = list(zip(index_year, temp_monthly_avg))\n",
    "dopct_data = list(zip(index, dopct_weekly_avg))"
   ]
  },
  {
   "cell_type": "code",
   "execution_count": 18,
   "metadata": {},
   "outputs": [
    {
     "name": "stdout",
     "output_type": "stream",
     "text": [
      "Done playing!\n"
     ]
    }
   ],
   "source": [
    "#playing temperature data\n",
    "sonify.play_midi_from_data(temp_data_year)"
   ]
  },
  {
   "cell_type": "code",
   "execution_count": 19,
   "metadata": {},
   "outputs": [
    {
     "name": "stdout",
     "output_type": "stream",
     "text": [
      "Done playing!\n"
     ]
    }
   ],
   "source": [
    "#playing dopct data\n",
    "sonify.play_midi_from_data(dopct_data)"
   ]
  },
  {
   "cell_type": "code",
   "execution_count": null,
   "metadata": {},
   "outputs": [],
   "source": []
  }
 ],
 "metadata": {
  "kernelspec": {
   "display_name": "Python 3",
   "language": "python",
   "name": "python3"
  },
  "language_info": {
   "codemirror_mode": {
    "name": "ipython",
    "version": 3
   },
   "file_extension": ".py",
   "mimetype": "text/x-python",
   "name": "python",
   "nbconvert_exporter": "python",
   "pygments_lexer": "ipython3",
   "version": "3.8.5"
  }
 },
 "nbformat": 4,
 "nbformat_minor": 4
}
