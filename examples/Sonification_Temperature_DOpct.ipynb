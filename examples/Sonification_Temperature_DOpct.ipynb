{
 "cells": [
  {
   "cell_type": "code",
   "execution_count": 32,
   "metadata": {},
   "outputs": [],
   "source": [
    "import pandas as pd\n",
    "import sonify\n",
    "import numpy as np"
   ]
  },
  {
   "cell_type": "code",
   "execution_count": 33,
   "metadata": {},
   "outputs": [],
   "source": [
    "# calculates average for each day in a span of 7 days\n",
    "def average_data_week(data):\n",
    "    day_averages = np.array([])\n",
    "    for a in range(0,96*7,96):\n",
    "        week = data[a:a+96]\n",
    "        avg = week.mean()\n",
    "        day_averages = np.append(day_averages, avg)\n",
    "    return day_averages"
   ]
  },
  {
   "cell_type": "code",
   "execution_count": 34,
   "metadata": {},
   "outputs": [],
   "source": [
    "#calculates average for each month in a span of last year\n",
    "#96 data points in a day, 96*365 in a year, 96*30 in a month \n",
    "#(using 30 days per month for easier calculation)\n",
    "def average_data_year(data):\n",
    "    month_averages = np.array([])\n",
    "    for a in range(0,96*30*12,96*30):\n",
    "        month = data[a:a+96*30]\n",
    "        avg = month.mean()\n",
    "        month_averages = np.append(month_averages, avg)\n",
    "    return month_averages"
   ]
  },
  {
   "cell_type": "code",
   "execution_count": 35,
   "metadata": {},
   "outputs": [],
   "source": [
    "#calculates average for last 30 days (around a month period)\n",
    "#return 30 data points, each for one day (turns to be around 15 seconds of sound)\n",
    "#96 data points in a day\n",
    "def daily_avg_month(data):\n",
    "    day_avgs = np.array([])\n",
    "    for a in range(0,96*30, 96):\n",
    "        day = data[a:a+96]\n",
    "        avg = day.mean()\n",
    "        day_avgs = np.append(day_avgs, avg)\n",
    "    return day_avgs"
   ]
  },
  {
   "cell_type": "code",
   "execution_count": 36,
   "metadata": {},
   "outputs": [],
   "source": [
    "#calaculates average for each week in last year (52 weeks)\n",
    "#returns 52 data points, each for one week (turns to be around 25 seconds of sound)\n",
    "def weekly_avg_per_year(data):\n",
    "    week_avgs = np.array([])\n",
    "    for a in range(0, 96*7*52, 96*7):\n",
    "        week = data[a:a+96*7]\n",
    "        avg = week.mean()\n",
    "        week_avgs = np.append(week_avgs, avg)\n",
    "    return week_avgs"
   ]
  },
  {
   "cell_type": "code",
   "execution_count": 37,
   "metadata": {},
   "outputs": [],
   "source": [
    "#reading the data\n",
    "water_data = pd.read_csv('adaSensorData.csv')"
   ]
  },
  {
   "cell_type": "code",
   "execution_count": 38,
   "metadata": {},
   "outputs": [],
   "source": [
    "#playing with temp and dopct data\n",
    "temp = water_data['Temp']\n",
    "dopct = water_data['DOpct']\n",
    "temp_weekly_avg = average_data_week(temp)\n",
    "temp_monthly_avg = average_data_year(temp)\n",
    "temp_last_month = daily_avg_month(temp)\n",
    "temp_year_week = weekly_avg_per_year(temp)\n",
    "#multiplying each value in temperature by 10 to make the sound nicer\n",
    "temp_weekly_avg = [temp * 10 for temp in temp_weekly_avg]\n",
    "temp_last_month = [temp * 10 for temp in temp_last_month]\n",
    "temp_monthly_avg = [temp * 5 for temp in temp_monthly_avg]\n",
    "temp_year_week = [temp * 5 for temp in temp_year_week]\n",
    "dopct_weekly_avg = average_data_week(dopct)\n",
    "index = [0,1,2,3,4,5,6]\n",
    "index_year = [0,1,2,3,4,5,6,7,8,9,10,11]\n",
    "index_month = []\n",
    "#index for month 0-29 (30 values)\n",
    "for i in range(0, 30):\n",
    "    index_month.append(i)\n",
    "index_week_year = []\n",
    "#index for yearly avg by week 0-51 (52 values)\n",
    "for i in range(0, 52):\n",
    "    index_week_year.append(i)\n",
    "temp_data_week = list(zip(index, temp_weekly_avg))\n",
    "temp_data_year = list(zip(index_year, temp_monthly_avg))\n",
    "temp_data_month = list(zip(index_month, temp_last_month))\n",
    "temp_data_year_week = list(zip(index_week_year, temp_year_week))\n",
    "dopct_data = list(zip(index, dopct_weekly_avg))"
   ]
  },
  {
   "cell_type": "code",
   "execution_count": 31,
   "metadata": {},
   "outputs": [
    {
     "name": "stdout",
     "output_type": "stream",
     "text": [
      "Done playing!\n"
     ]
    }
   ],
   "source": [
    "#playing temperature data\n",
    "sonify.play_midi_from_data(temp_data_year_week)"
   ]
  },
  {
   "cell_type": "code",
   "execution_count": 19,
   "metadata": {},
   "outputs": [
    {
     "name": "stdout",
     "output_type": "stream",
     "text": [
      "Done playing!\n"
     ]
    }
   ],
   "source": [
    "#playing dopct data\n",
    "sonify.play_midi_from_data(dopct_data)"
   ]
  },
  {
   "cell_type": "code",
   "execution_count": null,
   "metadata": {},
   "outputs": [],
   "source": []
  }
 ],
 "metadata": {
  "kernelspec": {
   "display_name": "Python 3",
   "language": "python",
   "name": "python3"
  },
  "language_info": {
   "codemirror_mode": {
    "name": "ipython",
    "version": 3
   },
   "file_extension": ".py",
   "mimetype": "text/x-python",
   "name": "python",
   "nbconvert_exporter": "python",
   "pygments_lexer": "ipython3",
   "version": "3.8.5"
  }
 },
 "nbformat": 4,
 "nbformat_minor": 4
}
