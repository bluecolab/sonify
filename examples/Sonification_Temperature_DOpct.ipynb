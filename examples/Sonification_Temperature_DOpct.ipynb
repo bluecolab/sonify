{
 "cells": [
  {
   "cell_type": "code",
   "execution_count": 9,
   "metadata": {},
   "outputs": [],
   "source": [
    "import pandas as pd\n",
    "import sonify\n",
    "import numpy as np"
   ]
  },
  {
   "cell_type": "code",
   "execution_count": 15,
   "metadata": {},
   "outputs": [],
   "source": [
    "# calculates average for each day in a span of 7 days\n",
    "def average_data_week(data):\n",
    "    day_averages = np.array([])\n",
    "    for a in range(0,96*7,96):\n",
    "        week = data[a:a+96]\n",
    "        avg = week.mean()\n",
    "        day_averages = np.append(day_averages, avg)\n",
    "    return day_averages"
   ]
  },
  {
   "cell_type": "code",
   "execution_count": 16,
   "metadata": {},
   "outputs": [],
   "source": [
    "#reading the data\n",
    "water_data = pd.read_csv('adaSensorData.csv')"
   ]
  },
  {
   "cell_type": "code",
   "execution_count": 17,
   "metadata": {},
   "outputs": [],
   "source": [
    "#playing with temp and dopct data\n",
    "temp = water_data['Temp']\n",
    "dopct = water_data['DOpct']\n",
    "temp_weekly_avg = average_data_week(temp)\n",
    "#multiplying each value in temperature by 10 to make the sound nicer\n",
    "temp_weekly_avg = [temp * 10 for temp in temp_weekly_avg]\n",
    "dopct_weekly_avg = average_data_week(dopct)\n",
    "index = [0,1,2,3,4,5,6]\n",
    "temp_data = list(zip(index, temp_weekly_avg))\n",
    "dopct_data = list(zip(index, dopct_weekly_avg))"
   ]
  },
  {
   "cell_type": "code",
   "execution_count": 18,
   "metadata": {},
   "outputs": [
    {
     "name": "stdout",
     "output_type": "stream",
     "text": [
      "Done playing!\n"
     ]
    }
   ],
   "source": [
    "#playing temperature data\n",
    "sonify.play_midi_from_data(temp_data)"
   ]
  },
  {
   "cell_type": "code",
   "execution_count": 19,
   "metadata": {},
   "outputs": [
    {
     "name": "stdout",
     "output_type": "stream",
     "text": [
      "Done playing!\n"
     ]
    }
   ],
   "source": [
    "#playing dopct data\n",
    "sonify.play_midi_from_data(dopct_data)"
   ]
  },
  {
   "cell_type": "code",
   "execution_count": null,
   "metadata": {},
   "outputs": [],
   "source": []
  }
 ],
 "metadata": {
  "kernelspec": {
   "display_name": "Python 3",
   "language": "python",
   "name": "python3"
  },
  "language_info": {
   "codemirror_mode": {
    "name": "ipython",
    "version": 3
   },
   "file_extension": ".py",
   "mimetype": "text/x-python",
   "name": "python",
   "nbconvert_exporter": "python",
   "pygments_lexer": "ipython3",
   "version": "3.8.5"
  }
 },
 "nbformat": 4,
 "nbformat_minor": 4
}
