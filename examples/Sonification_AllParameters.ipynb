{
 "cells": [
  {
   "cell_type": "code",
   "execution_count": 164,
   "metadata": {},
   "outputs": [],
   "source": [
    "import pandas as pd\n",
    "import sonify\n",
    "import numpy as np\n",
    "import datetime\n",
    "import time\n",
    "from time import mktime"
   ]
  },
  {
   "cell_type": "code",
   "execution_count": 165,
   "metadata": {},
   "outputs": [],
   "source": [
    "#calculates average for each day in a span of 7 days\n",
    "#96 represents the amount of updates each day(every 15 minutes \n",
    "#means 4 per hour -> 4*24 = 96 per day)\n",
    "def average_data_week(data):\n",
    "    day_averages = np.array([])\n",
    "    for a in range(0,96*7,96):\n",
    "        week = data[a:a+96]\n",
    "        avg = week.mean()\n",
    "        day_averages = np.append(day_averages, avg)\n",
    "    return day_averages"
   ]
  },
  {
   "cell_type": "code",
   "execution_count": 166,
   "metadata": {},
   "outputs": [],
   "source": [
    "#reading the data\n",
    "water_data = pd.read_csv('adaSensorData.csv')\n",
    "#time = water_data['time_stamp']"
   ]
  },
  {
   "cell_type": "code",
   "execution_count": 167,
   "metadata": {},
   "outputs": [],
   "source": [
    "#initializing the parameters\n",
    "temp = water_data['Temp']\n",
    "ph = water_data['pH']\n",
    "cond = water_data['Cond']\n",
    "dopct = water_data['DOpct']\n",
    "turb = water_data['Turb']\n",
    "sal = water_data['Sal']\n",
    "#time = datetime.datetime.strptime(water_data['time_stamp'][0], \"%y-%m-%d %H:%M:%S\")\n",
    "#time = water_data['time_stamp']"
   ]
  },
  {
   "cell_type": "code",
   "execution_count": 168,
   "metadata": {},
   "outputs": [],
   "source": [
    "#initializing the weekly averages for each parameter\n",
    "temp_weekly_avg = average_data_week(temp)\n",
    "ph_weekly_avg = average_data_week(ph)\n",
    "cond_weekly_avg = average_data_week(cond)\n",
    "#divide conductivity values by 10 to get them in a readable form\n",
    "cond_weekly_avg = [cond / 10 for cond in cond_weekly_avg]\n",
    "temp_weekly_avg = [temp * 10 for temp in temp_weekly_avg]\n",
    "dopct_weekly_avg = average_data_week(dopct)\n",
    "turb_weekly_avg = average_data_week(turb)\n",
    "turb_weekly_avg = [turb / 25 for turb in turb_weekly_avg]\n",
    "sal_weekly_avg = average_data_week(sal)"
   ]
  },
  {
   "cell_type": "code",
   "execution_count": 169,
   "metadata": {},
   "outputs": [],
   "source": [
    "#getting the weekly averages into a playable form\n",
    "index = [0,1,2,3,4,5,6] #7 indexes = 7 notes played for each\n",
    "temp_data = list(zip(index, temp_weekly_avg))\n",
    "ph_data = list(zip(index, ph_weekly_avg))\n",
    "cond_data = list(zip(index, cond_weekly_avg))\n",
    "dopct_data = list(zip(index, dopct_weekly_avg))\n",
    "turb_data = list(zip(index, turb_weekly_avg))\n",
    "sal_data = list(zip(index, sal_weekly_avg))"
   ]
  },
  {
   "cell_type": "code",
   "execution_count": 170,
   "metadata": {},
   "outputs": [
    {
     "name": "stdout",
     "output_type": "stream",
     "text": [
      "Done playing!\n"
     ]
    }
   ],
   "source": [
    "#playing temperature data\n",
    "sonify.play_midi_from_data(['voice oohs'] + temp_data, key = 'c_major')"
   ]
  },
  {
   "cell_type": "code",
   "execution_count": 171,
   "metadata": {},
   "outputs": [
    {
     "name": "stdout",
     "output_type": "stream",
     "text": [
      "Done playing!\n"
     ]
    }
   ],
   "source": [
    "#playing pH data\n",
    "sonify.play_midi_from_data(['blown bottle'] + ph_data, key = 'c_major')"
   ]
  },
  {
   "cell_type": "code",
   "execution_count": 172,
   "metadata": {},
   "outputs": [
    {
     "name": "stdout",
     "output_type": "stream",
     "text": [
      "Done playing!\n"
     ]
    }
   ],
   "source": [
    "#playing conductivity data\n",
    "sonify.play_midi_from_data(['tremolo strings'] + cond_data, key = 'c_major')"
   ]
  },
  {
   "cell_type": "code",
   "execution_count": 173,
   "metadata": {},
   "outputs": [
    {
     "name": "stdout",
     "output_type": "stream",
     "text": [
      "Done playing!\n"
     ]
    }
   ],
   "source": [
    "#playing dissolved oxygen percentage data\n",
    "sonify.play_midi_from_data(['flute'] + dopct_data, key = 'c_major')"
   ]
  },
  {
   "cell_type": "code",
   "execution_count": 174,
   "metadata": {},
   "outputs": [
    {
     "name": "stdout",
     "output_type": "stream",
     "text": [
      "Done playing!\n"
     ]
    }
   ],
   "source": [
    "#playing turbidity data\n",
    "sonify.play_midi_from_data(['electric guitar (jazz)'] + turb_data, key = 'c_major')"
   ]
  },
  {
   "cell_type": "code",
   "execution_count": 175,
   "metadata": {},
   "outputs": [
    {
     "name": "stdout",
     "output_type": "stream",
     "text": [
      "Done playing!\n"
     ]
    }
   ],
   "source": [
    "#playing salinity data\n",
    "sonify.play_midi_from_data(['bassoon'] + sal_data, key = 'd_major')"
   ]
  },
  {
   "cell_type": "code",
   "execution_count": 176,
   "metadata": {},
   "outputs": [],
   "source": [
    "#hopefully playing all\n",
    "#temp_sound = ['voice oohs'] + temp_data\n",
    "#ph_sound = ['blown bottle'] + ph_data\n",
    "#cond_sound = ['tremolo strings'] + cond_data\n",
    "#dopct_sound = ['flute'] + dopct_data\n",
    "#turb_sound = ['electric guitar (jazz)'] + turb_data\n",
    "#sal_sound = ['bassoon'] + sal_data\n",
    "#input_data = [\n",
    "#    [(temp_sound,ph_sound), (cond_sound, dopct_sound)], [(turb_sound, sal_sound)]\n",
    "#]\n",
    "#sonify.play_midi_from_data(input_data, track_type='multiple')"
   ]
  },
  {
   "cell_type": "code",
   "execution_count": 177,
   "metadata": {},
   "outputs": [],
   "source": [
    "#def process_sensor_data_multi_track(time, period, percent_change):\n",
    "    # Add period as a seperate color so we can see all the data together\n",
    "    \n",
    " #   points = []\n",
    "    #plt.figure(figsize=(10, 5))\n",
    "    \n",
    "#    for i in range(5):\n",
    "#        mask = (time >= time[0] + i*period) & (time < time[0] + (i+1)*period)\n",
    "#        new_x = [x for x in time[mask] - time[0] - i*period]\n",
    "#        scaled_x = sonify.scale_list_to_range(new_x, new_min=0, new_max=30)\n",
    "        \n",
    "#        new_y = [y for y in percent_change[mask]]\n",
    "#        scaled_y = sonify.scale_list_to_range(new_y, new_min=0, new_max=30)\n",
    "        \n",
    "#        quantized_x = sonify.quantize_x_value(scaled_x)\n",
    "                \n",
    "#        points.append(list(zip(quantized_x, scaled_y)))\n",
    "        \n",
    "        # Create the figure!\n",
    "       # mask = (time >= time[0] + i*period) & (time < time[0] + (i+1)*period)\n",
    "        # plt.scatter(time[mask] - time[0] - i*period, percent_change[mask])\n",
    "            \n",
    " #   return points \"\"\""
   ]
  },
  {
   "cell_type": "code",
   "execution_count": 178,
   "metadata": {},
   "outputs": [],
   "source": [
    "#multitrack_data = process_sensor_data_multi_track(time, period, percent_change)"
   ]
  },
  {
   "cell_type": "code",
   "execution_count": 179,
   "metadata": {},
   "outputs": [],
   "source": [
    "# Let's add some instruments to each track!\n",
    "#instruments_to_add = [\n",
    "#    'tremolo strings', 'voice oohs', 'electric guitar(clean)','flute','blown bottle', 'cello', 'bird tweet', 'bassoon'\n",
    "#]\n",
    "#multitrack_data_with_instruments = []\n",
    "#for index, track in enumerate(multitrack_data):\n",
    "#    multitrack_data_with_instruments.append([instruments_to_add[index]] + track)"
   ]
  },
  {
   "cell_type": "code",
   "execution_count": 180,
   "metadata": {},
   "outputs": [],
   "source": [
    "# While we're at it, let's add a drum track with a solid beat\n",
    "#max_number_of_beats = multitrack_data_with_instruments[0][-1][0]\n",
    "\n",
    "#bass_drum = []\n",
    "#for beat in range(0, int(max_number_of_beats + 1)):\n",
    "#   bass_drum.append((beat, 1)) \n",
    "\n",
    "#beat_track = ['bass drum 1'] + bass_drum\n",
    "#multitrack_data_with_instruments.append(beat_track)"
   ]
  },
  {
   "cell_type": "code",
   "execution_count": null,
   "metadata": {
    "collapsed": true
   },
   "outputs": [],
   "source": [
    "#sonify.play_midi_from_data(multitrack_data_with_instruments, track_type = 'multiple', key = 'c_major')"
   ]
  }
 ],
 "metadata": {
  "kernelspec": {
   "display_name": "Python 3",
   "language": "python",
   "name": "python3"
  },
  "language_info": {
   "codemirror_mode": {
    "name": "ipython",
    "version": 3
   },
   "file_extension": ".py",
   "mimetype": "text/x-python",
   "name": "python",
   "nbconvert_exporter": "python",
   "pygments_lexer": "ipython3",
   "version": "3.8.5"
  }
 },
 "nbformat": 4,
 "nbformat_minor": 4
}
