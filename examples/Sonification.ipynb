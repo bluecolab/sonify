{
 "cells": [
  {
   "cell_type": "code",
   "execution_count": 12,
   "metadata": {},
   "outputs": [],
   "source": [
    "import pandas as pd\n",
    "import sonify\n",
    "import numpy as np"
   ]
  },
  {
   "cell_type": "code",
   "execution_count": 13,
   "metadata": {},
   "outputs": [],
   "source": [
    "#reading the data\n",
    "water_data = pd.read_csv('adaSensorData.csv')\n",
    "water = pd.DataFrame(water_data)"
   ]
  },
  {
   "cell_type": "code",
   "execution_count": 14,
   "metadata": {},
   "outputs": [],
   "source": [
    "#playing with pH data\n",
    "ph = water['pH']\n",
    "ph = ph[:10]\n",
    "index = [0,1,2,3,4,5,6,7,8,9]\n",
    "normalized_index = sonify.scale_list_to_range(index, new_min=0, new_max=9)\n",
    "normalized_pH = sonify.scale_list_to_range(ph, new_min=0, new_max=10)\n",
    "normed_ph_data = list(zip(index, normalized_pH))"
   ]
  },
  {
   "cell_type": "code",
   "execution_count": 15,
   "metadata": {},
   "outputs": [
    {
     "name": "stdout",
     "output_type": "stream",
     "text": [
      "Done playing!\n"
     ]
    }
   ],
   "source": [
    "sonify.play_midi_from_data(normed_ph_data)"
   ]
  },
  {
   "cell_type": "code",
   "execution_count": null,
   "metadata": {},
   "outputs": [],
   "source": []
  }
 ],
 "metadata": {
  "kernelspec": {
   "display_name": "Python 3",
   "language": "python",
   "name": "python3"
  },
  "language_info": {
   "codemirror_mode": {
    "name": "ipython",
    "version": 3
   },
   "file_extension": ".py",
   "mimetype": "text/x-python",
   "name": "python",
   "nbconvert_exporter": "python",
   "pygments_lexer": "ipython3",
   "version": "3.8.5"
  }
 },
 "nbformat": 4,
 "nbformat_minor": 4
}
