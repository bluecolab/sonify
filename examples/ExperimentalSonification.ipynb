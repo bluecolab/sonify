{
 "cells": [
  {
   "cell_type": "code",
   "execution_count": 1,
   "metadata": {},
   "outputs": [
    {
     "name": "stdout",
     "output_type": "stream",
     "text": [
      "pygame 2.0.1 (SDL 2.0.14, Python 3.8.5)\n",
      "Hello from the pygame community. https://www.pygame.org/contribute.html\n"
     ]
    }
   ],
   "source": [
    "import pandas as pd\n",
    "import sonify\n",
    "import numpy as np"
   ]
  },
  {
   "cell_type": "code",
   "execution_count": 2,
   "metadata": {},
   "outputs": [],
   "source": [
    "#calculates average for each day in a span of 7 days\n",
    "#96 represents the amount of updates each day(every 15 minutes \n",
    "#means 4 per hour -> 4*24 = 96 per day)\n",
    "def average_data_week(data):\n",
    "    day_averages = np.array([])\n",
    "    for a in range(0,96*7,96):\n",
    "        week = data[a:a+96]\n",
    "        avg = week.mean()\n",
    "        day_averages = np.append(day_averages, avg)\n",
    "    return day_averages"
   ]
  },
  {
   "cell_type": "code",
   "execution_count": 3,
   "metadata": {},
   "outputs": [],
   "source": [
    "#calaculates average for each week in last year (52 weeks)\n",
    "#returns 52 data points, each for one week (turns to be around 25 seconds of sound)\n",
    "#OUR METHOD FOR YEAR DATA\n",
    "def data_year(data):\n",
    "    week_avgs = np.array([])\n",
    "    for a in range(0, 96*7*52, 96*7):\n",
    "        week = data[a:a+96*7]\n",
    "        avg = week.mean()\n",
    "        week_avgs = np.append(week_avgs, avg)\n",
    "    return week_avgs"
   ]
  },
  {
   "cell_type": "code",
   "execution_count": 4,
   "metadata": {},
   "outputs": [],
   "source": [
    "#splits the day in 6 parts, 96 data points per day, day split by 16 for weekly data\n",
    "#returns 42 data points\n",
    "#OUR METHOD FOR WEEK DATA\n",
    "def data_week(data):\n",
    "    week_avg = np.array([])\n",
    "    for a in range(0, 16*6*7, 16):\n",
    "        week = data[a:a+16]\n",
    "        avg = week.mean()\n",
    "        week_avg = np.append(week_avg, avg)\n",
    "    return week_avg"
   ]
  },
  {
   "cell_type": "code",
   "execution_count": 5,
   "metadata": {},
   "outputs": [],
   "source": [
    "#splits the day in 2 parts, 96 data points per day, split by 42 for monthly data\n",
    "#returns 60 data points\n",
    "#OUR METHOD FOR MONTH DATA\n",
    "def data_month(data):\n",
    "    month_avg = np.array([])\n",
    "    for a in range(0, 42*2*30, 42):\n",
    "        month = data[a:a+42]\n",
    "        avg = month.mean()\n",
    "        month_avg = np.append(month_avg, avg)\n",
    "    return month_avg"
   ]
  },
  {
   "cell_type": "code",
   "execution_count": 6,
   "metadata": {},
   "outputs": [],
   "source": [
    "#reading the data\n",
    "water_data = pd.read_csv('adaSensorData.csv')"
   ]
  },
  {
   "cell_type": "code",
   "execution_count": 7,
   "metadata": {},
   "outputs": [],
   "source": [
    "#initializing the parameters\n",
    "temp = water_data['Temp']\n",
    "ph = water_data['pH']\n",
    "cond = water_data['Cond']\n",
    "dopct = water_data['DOpct']\n",
    "turb = water_data['Turb']\n",
    "sal = water_data['Sal']"
   ]
  },
  {
   "cell_type": "code",
   "execution_count": 8,
   "metadata": {},
   "outputs": [],
   "source": [
    "#initializing the weekly averages for each parameter - short version\n",
    "temp_weekly_avg = average_data_week(temp)\n",
    "ph_weekly_avg = average_data_week(ph)\n",
    "cond_weekly_avg = average_data_week(cond)\n",
    "#divide conductivity values by 10 to get them in a readable form\n",
    "cond_weekly_avg = [cond / 10 for cond in cond_weekly_avg]\n",
    "temp_weekly_avg = [temp * 10 for temp in temp_weekly_avg]\n",
    "dopct_weekly_avg = average_data_week(dopct)\n",
    "turb_weekly_avg = average_data_week(turb)\n",
    "turb_weekly_avg = [turb / 25 for turb in turb_weekly_avg]\n",
    "sal_weekly_avg = average_data_week(sal)"
   ]
  },
  {
   "cell_type": "code",
   "execution_count": 9,
   "metadata": {},
   "outputs": [],
   "source": [
    "#getting the weekly averages into a playable form - short version\n",
    "index = [0,1,2,3,4,5,6] #7 indexes = 7 notes played for each\n",
    "temp_data = list(zip(index, temp_weekly_avg))\n",
    "ph_data = list(zip(index, ph_weekly_avg))\n",
    "cond_data = list(zip(index, cond_weekly_avg))\n",
    "dopct_data = list(zip(index, dopct_weekly_avg))\n",
    "turb_data = list(zip(index, turb_weekly_avg))\n",
    "sal_data = list(zip(index, sal_weekly_avg))"
   ]
  },
  {
   "cell_type": "code",
   "execution_count": 10,
   "metadata": {},
   "outputs": [],
   "source": [
    "#initializing the year average \n",
    "temp_year = data_year(temp)\n",
    "ph_year = data_year(ph)\n",
    "cond_year = data_year(cond)\n",
    "dopct_year = data_year(dopct)\n",
    "turb_year = data_year(turb)\n",
    "sal_year = data_year(sal)"
   ]
  },
  {
   "cell_type": "code",
   "execution_count": 11,
   "metadata": {},
   "outputs": [],
   "source": [
    "#initializing the extended weekly averages \n",
    "temp_week = data_week(temp)\n",
    "ph_week = data_week(ph)\n",
    "cond_week = data_week(cond)\n",
    "dopct_week = data_week(dopct)\n",
    "turb_week = data_week(turb)\n",
    "sal_week = data_week(sal)"
   ]
  },
  {
   "cell_type": "code",
   "execution_count": 12,
   "metadata": {},
   "outputs": [],
   "source": [
    "#initializing the monthly averages \n",
    "temp_month = data_month(temp)\n",
    "ph_month = data_month(ph)\n",
    "cond_month = data_month(cond)\n",
    "dopct_month = data_month(dopct)\n",
    "turb_month = data_month(turb)\n",
    "sal_month = data_month(sal)"
   ]
  },
  {
   "cell_type": "code",
   "execution_count": 13,
   "metadata": {},
   "outputs": [],
   "source": [
    "#saving the data into the right format for sonification\n",
    "#index values\n",
    "week_index = []\n",
    "for i in range(0, 42):\n",
    "    week_index.append(i)\n",
    "month_index = []\n",
    "for i in range(0, 60):\n",
    "    month_index.append(i)\n",
    "year_index = []\n",
    "for i in range(0, 52):\n",
    "    year_index.append(i)"
   ]
  },
  {
   "cell_type": "code",
   "execution_count": 14,
   "metadata": {},
   "outputs": [],
   "source": [
    "#temperature data\n",
    "temp_week_data = list(zip(week_index, temp_week))\n",
    "temp_month_data =list(zip(month_index, temp_month))\n",
    "temp_year_data = list(zip(year_index, temp_year))"
   ]
  },
  {
   "cell_type": "code",
   "execution_count": 15,
   "metadata": {},
   "outputs": [],
   "source": [
    "#ph data\n",
    "ph_week_data = list(zip(week_index, ph_week))\n",
    "ph_month_data =list(zip(month_index, ph_month))\n",
    "ph_year_data = list(zip(year_index, ph_year))"
   ]
  },
  {
   "cell_type": "code",
   "execution_count": 16,
   "metadata": {},
   "outputs": [],
   "source": [
    "#conductivity data\n",
    "cond_week_data = list(zip(week_index, cond_week))\n",
    "cond_month_data =list(zip(month_index, cond_month))\n",
    "cond_year_data = list(zip(year_index, cond_year))"
   ]
  },
  {
   "cell_type": "code",
   "execution_count": 17,
   "metadata": {},
   "outputs": [],
   "source": [
    "#dissolved oxygen percentage data \n",
    "dopct_week_data = list(zip(week_index, dopct_week))\n",
    "dopct_month_data =list(zip(month_index, dopct_month))\n",
    "dopct_year_data = list(zip(year_index, dopct_year))"
   ]
  },
  {
   "cell_type": "code",
   "execution_count": 18,
   "metadata": {},
   "outputs": [],
   "source": [
    "#turbidity data\n",
    "turb_week_data = list(zip(week_index, turb_week))\n",
    "turb_month_data =list(zip(month_index, turb_month))\n",
    "turb_year_data = list(zip(year_index, turb_year))"
   ]
  },
  {
   "cell_type": "code",
   "execution_count": 19,
   "metadata": {},
   "outputs": [],
   "source": [
    "#salinity data\n",
    "sal_week_data = list(zip(week_index, sal_week))\n",
    "sal_month_data =list(zip(month_index, sal_month))\n",
    "sal_year_data = list(zip(year_index, sal_year))"
   ]
  },
  {
   "cell_type": "code",
   "execution_count": 20,
   "metadata": {},
   "outputs": [
    {
     "name": "stdout",
     "output_type": "stream",
     "text": [
      "Done playing!\n"
     ]
    }
   ],
   "source": [
    "#playing temperature data - short week\n",
    "sonify.play_midi_from_data(['voice oohs'] + temp_data, key = 'c_major')"
   ]
  },
  {
   "cell_type": "code",
   "execution_count": 21,
   "metadata": {},
   "outputs": [
    {
     "name": "stdout",
     "output_type": "stream",
     "text": [
      "Done playing!\n"
     ]
    }
   ],
   "source": [
    "#playing pH data -  short week\n",
    "sonify.play_midi_from_data(['blown bottle'] + ph_data, key = 'c_major')"
   ]
  },
  {
   "cell_type": "code",
   "execution_count": 22,
   "metadata": {},
   "outputs": [
    {
     "name": "stdout",
     "output_type": "stream",
     "text": [
      "Done playing!\n"
     ]
    }
   ],
   "source": [
    "#playing conductivity data - short week\n",
    "sonify.play_midi_from_data(['tremolo strings'] + cond_data, key = 'c_major')"
   ]
  },
  {
   "cell_type": "code",
   "execution_count": 23,
   "metadata": {},
   "outputs": [
    {
     "name": "stdout",
     "output_type": "stream",
     "text": [
      "Done playing!\n"
     ]
    }
   ],
   "source": [
    "#playing dissolved oxygen percentage data - short week\n",
    "sonify.play_midi_from_data(['flute'] + dopct_data, key = 'c_major')"
   ]
  },
  {
   "cell_type": "code",
   "execution_count": 24,
   "metadata": {},
   "outputs": [
    {
     "name": "stdout",
     "output_type": "stream",
     "text": [
      "Done playing!\n"
     ]
    }
   ],
   "source": [
    "#playing turbidity data - short week\n",
    "sonify.play_midi_from_data(['electric guitar (jazz)'] + turb_data, key = 'c_major')"
   ]
  },
  {
   "cell_type": "code",
   "execution_count": 25,
   "metadata": {},
   "outputs": [
    {
     "name": "stdout",
     "output_type": "stream",
     "text": [
      "Done playing!\n"
     ]
    }
   ],
   "source": [
    "#playing salinity data - short week\n",
    "sonify.play_midi_from_data(['bassoon'] + sal_data, key = 'c_major')"
   ]
  },
  {
   "cell_type": "code",
   "execution_count": 20,
   "metadata": {},
   "outputs": [
    {
     "name": "stdout",
     "output_type": "stream",
     "text": [
      "Done playing!\n"
     ]
    }
   ],
   "source": [
    "#playing all parameters (7 days in a week) - short version\n",
    "temp_sound = ['voice oohs'] + temp_data\n",
    "ph_sound = ['blown bottle'] + ph_data\n",
    "cond_sound = ['tremolo strings'] + cond_data\n",
    "dopct_sound = ['flute'] + dopct_data\n",
    "turb_sound = ['electric guitar (jazz)'] + turb_data\n",
    "sal_sound = ['bassoon'] + sal_data\n",
    "input_data = [\n",
    "    temp_sound, ph_sound, cond_sound, dopct_sound, turb_sound, sal_sound\n",
    "]\n",
    "sonify.play_midi_from_data(input_data, track_type='multiple', key = 'c_major')"
   ]
  },
  {
   "cell_type": "code",
   "execution_count": 55,
   "metadata": {},
   "outputs": [
    {
     "name": "stdout",
     "output_type": "stream",
     "text": [
      "Done playing!\n"
     ]
    }
   ],
   "source": [
    "#playing temperature data - extended week\n",
    "sonify.play_midi_from_data(['choir aahs'] + temp_week_data, 'g_major')"
   ]
  },
  {
   "cell_type": "code",
   "execution_count": 56,
   "metadata": {},
   "outputs": [
    {
     "name": "stdout",
     "output_type": "stream",
     "text": [
      "Done playing!\n"
     ]
    }
   ],
   "source": [
    "#playing ph data - extended week\n",
    "sonify.play_midi_from_data(['acoustic grand piano'] + ph_week_data, 'g_major')"
   ]
  },
  {
   "cell_type": "code",
   "execution_count": 57,
   "metadata": {},
   "outputs": [
    {
     "name": "stdout",
     "output_type": "stream",
     "text": [
      "Done playing!\n"
     ]
    }
   ],
   "source": [
    "#playing conductivity data - extended week\n",
    "sonify.play_midi_from_data(['harpsichord'] + cond_week_data, 'g_major')"
   ]
  },
  {
   "cell_type": "code",
   "execution_count": 58,
   "metadata": {},
   "outputs": [
    {
     "name": "stdout",
     "output_type": "stream",
     "text": [
      "Done playing!\n"
     ]
    }
   ],
   "source": [
    "#playing dissolved oxygen percentage data - extended week\n",
    "sonify.play_midi_from_data(['fiddle'] + dopct_week_data, 'g_major')"
   ]
  },
  {
   "cell_type": "code",
   "execution_count": 59,
   "metadata": {},
   "outputs": [
    {
     "name": "stdout",
     "output_type": "stream",
     "text": [
      "Done playing!\n"
     ]
    }
   ],
   "source": [
    "#playing turbidity data - extended week\n",
    "sonify.play_midi_from_data(['cello'] + turb_week_data, 'g_major')"
   ]
  },
  {
   "cell_type": "code",
   "execution_count": 60,
   "metadata": {},
   "outputs": [
    {
     "name": "stdout",
     "output_type": "stream",
     "text": [
      "Done playing!\n"
     ]
    }
   ],
   "source": [
    "#playing salinity data - extended week\n",
    "sonify.play_midi_from_data(['viola'] + sal_week_data, 'g_major')"
   ]
  },
  {
   "cell_type": "code",
   "execution_count": 21,
   "metadata": {},
   "outputs": [
    {
     "name": "stdout",
     "output_type": "stream",
     "text": [
      "Done playing!\n"
     ]
    }
   ],
   "source": [
    "#playing all parameters (extended week)\n",
    "temp_sound = ['choir aahs'] + temp_week_data\n",
    "ph_sound = ['acoustic grand piano'] + ph_week_data\n",
    "cond_sound = ['harpsichord'] + cond_week_data\n",
    "dopct_sound = ['fiddle'] + dopct_week_data\n",
    "turb_sound = ['cello'] + turb_week_data\n",
    "sal_sound = ['viola'] + sal_week_data\n",
    "input_data = [\n",
    "    temp_sound, ph_sound, cond_sound, dopct_sound, turb_sound, sal_sound\n",
    "]\n",
    "sonify.play_midi_from_data(input_data, track_type='multiple', key = 'g_major')"
   ]
  },
  {
   "cell_type": "code",
   "execution_count": 62,
   "metadata": {},
   "outputs": [
    {
     "name": "stdout",
     "output_type": "stream",
     "text": [
      "Done playing!\n"
     ]
    }
   ],
   "source": [
    "#playing temperature month data\n",
    "sonify.play_midi_from_data(['voice oohs'] + temp_month_data, 'c_major')"
   ]
  },
  {
   "cell_type": "code",
   "execution_count": 63,
   "metadata": {},
   "outputs": [
    {
     "name": "stdout",
     "output_type": "stream",
     "text": [
      "Done playing!\n"
     ]
    }
   ],
   "source": [
    "#playing ph month data\n",
    "sonify.play_midi_from_data(['synth voice'] + ph_month_data, 'c_major')"
   ]
  },
  {
   "cell_type": "code",
   "execution_count": 64,
   "metadata": {},
   "outputs": [
    {
     "name": "stdout",
     "output_type": "stream",
     "text": [
      "Done playing!\n"
     ]
    }
   ],
   "source": [
    "#playing conductivity month data\n",
    "sonify.play_midi_from_data(['choir aahs'] + cond_month_data, 'c_major')"
   ]
  },
  {
   "cell_type": "code",
   "execution_count": 65,
   "metadata": {},
   "outputs": [
    {
     "name": "stdout",
     "output_type": "stream",
     "text": [
      "Done playing!\n"
     ]
    }
   ],
   "source": [
    "#playing dissolved oxygen percentage month data\n",
    "sonify.play_midi_from_data(['lead 6 (voice)'] + dopct_month_data, 'c_major')"
   ]
  },
  {
   "cell_type": "code",
   "execution_count": 66,
   "metadata": {},
   "outputs": [
    {
     "name": "stdout",
     "output_type": "stream",
     "text": [
      "Done playing!\n"
     ]
    }
   ],
   "source": [
    "#playing turbidity month data\n",
    "sonify.play_midi_from_data(['synth voice'] + turb_month_data, 'c_major')"
   ]
  },
  {
   "cell_type": "code",
   "execution_count": 67,
   "metadata": {},
   "outputs": [
    {
     "name": "stdout",
     "output_type": "stream",
     "text": [
      "Done playing!\n"
     ]
    }
   ],
   "source": [
    "#playing salinity month data\n",
    "sonify.play_midi_from_data(['choir aahs'] + sal_month_data, 'c_major')"
   ]
  },
  {
   "cell_type": "code",
   "execution_count": 22,
   "metadata": {},
   "outputs": [
    {
     "name": "stdout",
     "output_type": "stream",
     "text": [
      "Done playing!\n"
     ]
    }
   ],
   "source": [
    "#playing all parameters (month) *\n",
    "temp_sound = ['voice oohs'] + temp_month_data\n",
    "ph_sound = ['synth voice'] + ph_month_data\n",
    "cond_sound = ['choir aahs'] + cond_month_data\n",
    "dopct_sound = ['lead 6 (voice)'] + dopct_month_data\n",
    "turb_sound = ['synth voice'] + turb_month_data\n",
    "sal_sound = ['choir aahs'] + sal_month_data\n",
    "input_data = [\n",
    "    temp_sound, ph_sound, cond_sound, dopct_sound, turb_sound, sal_sound\n",
    "]\n",
    "sonify.play_midi_from_data(input_data, track_type='multiple', key = 'c_major')"
   ]
  },
  {
   "cell_type": "code",
   "execution_count": 88,
   "metadata": {},
   "outputs": [
    {
     "name": "stdout",
     "output_type": "stream",
     "text": [
      "Done playing!\n"
     ]
    }
   ],
   "source": [
    "#playing all parameters (month)\n",
    "temp_sound = ['voice oohs'] + temp_month_data\n",
    "ph_sound = ['synth voice'] + ph_month_data\n",
    "cond_sound = ['choir aahs'] + cond_month_data\n",
    "dopct_sound = ['whistle'] + dopct_month_data\n",
    "turb_sound = ['synth voice'] + turb_month_data\n",
    "sal_sound = ['choir aahs'] + sal_month_data\n",
    "input_data = [\n",
    "    temp_sound, ph_sound, cond_sound, dopct_sound, turb_sound, sal_sound\n",
    "]\n",
    "sonify.play_midi_from_data(input_data, track_type='multiple', key = 'c_major')"
   ]
  },
  {
   "cell_type": "code",
   "execution_count": 71,
   "metadata": {},
   "outputs": [
    {
     "name": "stdout",
     "output_type": "stream",
     "text": [
      "Done playing!\n"
     ]
    }
   ],
   "source": [
    "#playing temperature year data\n",
    "sonify.play_midi_from_data(['voice oohs'] + temp_year_data, 'c_major')"
   ]
  },
  {
   "cell_type": "code",
   "execution_count": 72,
   "metadata": {},
   "outputs": [
    {
     "name": "stdout",
     "output_type": "stream",
     "text": [
      "Done playing!\n"
     ]
    }
   ],
   "source": [
    "#playing ph year data\n",
    "sonify.play_midi_from_data(['flute'] + ph_year_data, 'c_major')"
   ]
  },
  {
   "cell_type": "code",
   "execution_count": 73,
   "metadata": {},
   "outputs": [
    {
     "name": "stdout",
     "output_type": "stream",
     "text": [
      "Done playing!\n"
     ]
    }
   ],
   "source": [
    "#playing conductivity year data\n",
    "sonify.play_midi_from_data(['electric guitar (jazz)'] + cond_year_data, 'c_major')"
   ]
  },
  {
   "cell_type": "code",
   "execution_count": 74,
   "metadata": {},
   "outputs": [
    {
     "name": "stdout",
     "output_type": "stream",
     "text": [
      "Done playing!\n"
     ]
    }
   ],
   "source": [
    "#playing dissolved oxygen year data\n",
    "sonify.play_midi_from_data(['trombone'] + dopct_year_data, 'c_major')"
   ]
  },
  {
   "cell_type": "code",
   "execution_count": 75,
   "metadata": {},
   "outputs": [
    {
     "name": "stdout",
     "output_type": "stream",
     "text": [
      "Done playing!\n"
     ]
    }
   ],
   "source": [
    "#playing turbidity year data\n",
    "sonify.play_midi_from_data(['synth voice'] + turb_year_data, 'c_major')"
   ]
  },
  {
   "cell_type": "code",
   "execution_count": 76,
   "metadata": {},
   "outputs": [
    {
     "name": "stdout",
     "output_type": "stream",
     "text": [
      "Done playing!\n"
     ]
    }
   ],
   "source": [
    "#playing salinity year data\n",
    "sonify.play_midi_from_data(['electric piano 1'] + sal_year_data, 'c_major')"
   ]
  },
  {
   "cell_type": "code",
   "execution_count": 23,
   "metadata": {},
   "outputs": [
    {
     "name": "stdout",
     "output_type": "stream",
     "text": [
      "Done playing!\n"
     ]
    }
   ],
   "source": [
    "#playing all parameters (52 weeks in a year) ***\n",
    "temp_sound = ['voice oohs'] + temp_year_data\n",
    "ph_sound = ['flute'] + ph_year_data\n",
    "cond_sound = ['electric guitar (jazz)'] + cond_year_data\n",
    "dopct_sound = ['trombone'] + dopct_year_data\n",
    "turb_sound = ['synth voice'] + turb_year_data\n",
    "sal_sound = ['electric piano 1'] + sal_year_data\n",
    "input_data = [\n",
    "    temp_sound, ph_sound, cond_sound, dopct_sound, turb_sound, sal_sound\n",
    "]\n",
    "sonify.play_midi_from_data(input_data, track_type='multiple', key = 'c_major')"
   ]
  },
  {
   "cell_type": "code",
   "execution_count": 80,
   "metadata": {},
   "outputs": [
    {
     "name": "stdout",
     "output_type": "stream",
     "text": [
      "Done playing!\n"
     ]
    }
   ],
   "source": [
    "#playing all parameters (52 weeks in a year)\n",
    "temp_sound = ['voice oohs'] + temp_year_data\n",
    "ph_sound = ['flute'] + ph_year_data\n",
    "cond_sound = ['electric guitar (jazz)'] + cond_year_data\n",
    "dopct_sound = ['trombone'] + dopct_year_data\n",
    "turb_sound = ['synth voice'] + turb_year_data\n",
    "sal_sound = ['electric piano 1'] + sal_year_data\n",
    "input_data = [\n",
    "    temp_sound, ph_sound, cond_sound, dopct_sound, turb_sound, sal_sound\n",
    "]\n",
    "sonify.play_midi_from_data(input_data, track_type='multiple', key = 'g_major')"
   ]
  },
  {
   "cell_type": "code",
   "execution_count": 82,
   "metadata": {},
   "outputs": [
    {
     "name": "stdout",
     "output_type": "stream",
     "text": [
      "Done playing!\n"
     ]
    }
   ],
   "source": [
    "#playing all parameters (52 weeks in a year) - semi-joke\n",
    "temp_sound = ['bagpipe'] + temp_year_data\n",
    "ph_sound = ['banjo'] + ph_year_data\n",
    "cond_sound = ['kalimba'] + cond_year_data\n",
    "dopct_sound = ['shakuhachi'] + dopct_year_data\n",
    "turb_sound = ['cabasa'] + turb_year_data\n",
    "sal_sound = ['whistle'] + sal_year_data\n",
    "input_data = [\n",
    "    temp_sound, ph_sound, cond_sound, dopct_sound, turb_sound, sal_sound\n",
    "]\n",
    "sonify.play_midi_from_data(input_data, track_type='multiple', key = 'c_major')"
   ]
  },
  {
   "cell_type": "code",
   "execution_count": null,
   "metadata": {},
   "outputs": [],
   "source": []
  }
 ],
 "metadata": {
  "kernelspec": {
   "display_name": "Python 3",
   "language": "python",
   "name": "python3"
  },
  "language_info": {
   "codemirror_mode": {
    "name": "ipython",
    "version": 3
   },
   "file_extension": ".py",
   "mimetype": "text/x-python",
   "name": "python",
   "nbconvert_exporter": "python",
   "pygments_lexer": "ipython3",
   "version": "3.8.5"
  }
 },
 "nbformat": 4,
 "nbformat_minor": 4
}
