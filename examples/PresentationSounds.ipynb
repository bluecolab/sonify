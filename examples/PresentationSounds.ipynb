{
 "cells": [
  {
   "cell_type": "code",
   "execution_count": 1,
   "metadata": {},
   "outputs": [
    {
     "name": "stdout",
     "output_type": "stream",
     "text": [
      "pygame 2.0.1 (SDL 2.0.14, Python 3.8.5)\n",
      "Hello from the pygame community. https://www.pygame.org/contribute.html\n"
     ]
    }
   ],
   "source": [
    "import pandas as pd\n",
    "import sonify\n",
    "import numpy as np"
   ]
  },
  {
   "cell_type": "code",
   "execution_count": 2,
   "metadata": {},
   "outputs": [],
   "source": [
    "#splits the day in 2 parts, 96 data points per day, split by 42 for monthly data\n",
    "#returns 60 data points\n",
    "#OUR METHOD FOR MONTH DATA\n",
    "def data_month(data):\n",
    "    month_avg = np.array([])\n",
    "    for a in range(0, 42*2*30, 42):\n",
    "        month = data[a:a+42]\n",
    "        avg = month.mean()\n",
    "        month_avg = np.append(month_avg, avg)\n",
    "    return month_avg"
   ]
  },
  {
   "cell_type": "code",
   "execution_count": 3,
   "metadata": {},
   "outputs": [],
   "source": [
    "#calaculates average for each week in last year (52 weeks)\n",
    "#returns 52 data points, each for one week (turns to be around 25 seconds of sound)\n",
    "#OUR METHOD FOR YEAR DATA\n",
    "def data_year(data):\n",
    "    week_avgs = np.array([])\n",
    "    for a in range(0, 96*7*52, 96*7):\n",
    "        week = data[a:a+96*7]\n",
    "        avg = week.mean()\n",
    "        week_avgs = np.append(week_avgs, avg)\n",
    "    return week_avgs"
   ]
  },
  {
   "cell_type": "code",
   "execution_count": 4,
   "metadata": {},
   "outputs": [],
   "source": [
    "#reading the data\n",
    "water_data = pd.read_csv('adaSensorData.csv')"
   ]
  },
  {
   "cell_type": "code",
   "execution_count": 5,
   "metadata": {},
   "outputs": [],
   "source": [
    "#initializing the parameters\n",
    "temp = water_data['Temp']\n",
    "ph = water_data['pH']\n",
    "cond = water_data['Cond']\n",
    "dopct = water_data['DOpct']\n",
    "turb = water_data['Turb']\n",
    "sal = water_data['Sal']"
   ]
  },
  {
   "cell_type": "code",
   "execution_count": 6,
   "metadata": {},
   "outputs": [],
   "source": [
    "#initializing the monthly averages \n",
    "temp_month = data_month(temp)\n",
    "ph_month = data_month(ph)\n",
    "cond_month = data_month(cond)\n",
    "dopct_month = data_month(dopct)\n",
    "turb_month = data_month(turb)\n",
    "sal_month = data_month(sal)"
   ]
  },
  {
   "cell_type": "code",
   "execution_count": 7,
   "metadata": {},
   "outputs": [],
   "source": [
    "#initializing the year average \n",
    "temp_year = data_year(temp)\n",
    "ph_year = data_year(ph)\n",
    "cond_year = data_year(cond)\n",
    "dopct_year = data_year(dopct)\n",
    "turb_year = data_year(turb)\n",
    "sal_year = data_year(sal)"
   ]
  },
  {
   "cell_type": "code",
   "execution_count": 8,
   "metadata": {},
   "outputs": [],
   "source": [
    "#saving the data into the right format for sonification\n",
    "#index values\n",
    "month_index = []\n",
    "for i in range(0, 60):\n",
    "    month_index.append(i)\n",
    "year_index = []\n",
    "for i in range(0, 52):\n",
    "    year_index.append(i)"
   ]
  },
  {
   "cell_type": "code",
   "execution_count": 9,
   "metadata": {},
   "outputs": [],
   "source": [
    "#temperature data\n",
    "temp_month_data =list(zip(month_index, temp_month))\n",
    "temp_year_data = list(zip(year_index, temp_year))"
   ]
  },
  {
   "cell_type": "code",
   "execution_count": 10,
   "metadata": {},
   "outputs": [],
   "source": [
    "#ph data\n",
    "ph_month_data =list(zip(month_index, ph_month))\n",
    "ph_year_data = list(zip(year_index, ph_year))"
   ]
  },
  {
   "cell_type": "code",
   "execution_count": 11,
   "metadata": {},
   "outputs": [],
   "source": [
    "#conductivity data\n",
    "cond_month_data =list(zip(month_index, cond_month))\n",
    "cond_year_data = list(zip(year_index, cond_year))"
   ]
  },
  {
   "cell_type": "code",
   "execution_count": 12,
   "metadata": {},
   "outputs": [],
   "source": [
    "#dissolved oxygen percentage data \n",
    "dopct_month_data =list(zip(month_index, dopct_month))\n",
    "dopct_year_data = list(zip(year_index, dopct_year))"
   ]
  },
  {
   "cell_type": "code",
   "execution_count": 13,
   "metadata": {},
   "outputs": [],
   "source": [
    "#turbidity data\n",
    "turb_month_data =list(zip(month_index, turb_month))\n",
    "turb_year_data = list(zip(year_index, turb_year))"
   ]
  },
  {
   "cell_type": "code",
   "execution_count": 14,
   "metadata": {},
   "outputs": [],
   "source": [
    "#salinity data\n",
    "sal_month_data =list(zip(month_index, sal_month))\n",
    "sal_year_data = list(zip(year_index, sal_year))"
   ]
  },
  {
   "cell_type": "code",
   "execution_count": 15,
   "metadata": {},
   "outputs": [
    {
     "name": "stdout",
     "output_type": "stream",
     "text": [
      "Done playing!\n"
     ]
    }
   ],
   "source": [
    "#Playing all month data\n",
    "temp_month_sound = ['orchestral harp'] + temp_month_data\n",
    "ph_month_sound = ['choir aahs'] + ph_month_data\n",
    "cond_month_sound = ['church organ'] + cond_month_data\n",
    "dopct_month_sound = ['viola'] + dopct_month_data\n",
    "turb_month_sound = ['violin'] + turb_month_data\n",
    "sal_month_sound = ['cello'] + sal_month_data\n",
    "input_month_data = [\n",
    "    temp_month_sound,ph_month_sound,cond_month_sound, dopct_month_sound,turb_month_sound, sal_month_sound\n",
    "]\n",
    "sonify.play_midi_from_data(input_month_data, track_type='multiple', key = 'd_sharp_major')"
   ]
  },
  {
   "cell_type": "code",
   "execution_count": 16,
   "metadata": {},
   "outputs": [
    {
     "name": "stdout",
     "output_type": "stream",
     "text": [
      "Done playing!\n"
     ]
    }
   ],
   "source": [
    "#playing all parameters (52 weeks in a year) \n",
    "temp_sound = ['voice oohs'] + temp_year_data\n",
    "ph_sound = ['flute'] + ph_year_data\n",
    "cond_sound = ['electric guitar (jazz)'] + cond_year_data\n",
    "dopct_sound = ['trombone'] + dopct_year_data\n",
    "turb_sound = ['synth voice'] + turb_year_data\n",
    "sal_sound = ['electric piano 1'] + sal_year_data\n",
    "input_data = [\n",
    "    temp_sound, ph_sound, cond_sound, dopct_sound, turb_sound, sal_sound\n",
    "]\n",
    "sonify.play_midi_from_data(input_data, track_type='multiple', key = 'c_major')"
   ]
  },
  {
   "cell_type": "code",
   "execution_count": null,
   "metadata": {},
   "outputs": [],
   "source": []
  }
 ],
 "metadata": {
  "kernelspec": {
   "display_name": "Python 3",
   "language": "python",
   "name": "python3"
  },
  "language_info": {
   "codemirror_mode": {
    "name": "ipython",
    "version": 3
   },
   "file_extension": ".py",
   "mimetype": "text/x-python",
   "name": "python",
   "nbconvert_exporter": "python",
   "pygments_lexer": "ipython3",
   "version": "3.8.5"
  }
 },
 "nbformat": 4,
 "nbformat_minor": 4
}
